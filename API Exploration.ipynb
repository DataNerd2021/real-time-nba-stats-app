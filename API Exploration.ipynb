{
 "cells": [
  {
   "cell_type": "markdown",
   "metadata": {},
   "source": [
    "## Import Required Libraries"
   ]
  },
  {
   "cell_type": "code",
   "execution_count": 1,
   "metadata": {},
   "outputs": [],
   "source": [
    "import duckdb"
   ]
  },
  {
   "cell_type": "code",
   "execution_count": 35,
   "metadata": {},
   "outputs": [
    {
     "data": {
      "text/plain": [
       "┌─────────┬────────┬────────────────┬───┬───────────┬──────────────────────┬─────────────────┬──────────────────────┐\n",
       "│ assists │ blocks │ blocksReceived │ … │ turnovers │ twoPointersAttempted │ twoPointersMade │ twoPointersPercent…  │\n",
       "│ uint64  │ uint64 │     uint64     │   │  uint64   │        uint64        │     uint64      │        double        │\n",
       "├─────────┼────────┼────────────────┼───┼───────────┼──────────────────────┼─────────────────┼──────────────────────┤\n",
       "│       1 │      0 │              3 │ … │         1 │                   12 │               7 │    0.583333333333333 │\n",
       "│       0 │      0 │              0 │ … │         0 │                    3 │               1 │    0.333333333333333 │\n",
       "│       0 │      0 │              0 │ … │         1 │                    7 │               4 │   0.5714285714285711 │\n",
       "│       1 │      0 │              3 │ … │         0 │                    4 │               1 │                 0.25 │\n",
       "│       3 │      1 │              2 │ … │         1 │                   22 │               8 │  0.36363636363636404 │\n",
       "│       3 │      1 │              1 │ … │         3 │                    9 │               5 │    0.555555555555556 │\n",
       "│       3 │      0 │              0 │ … │         3 │                    4 │               3 │                 0.75 │\n",
       "│       6 │      0 │              0 │ … │         0 │                    2 │               1 │                  0.5 │\n",
       "│       0 │      0 │              0 │ … │         1 │                    1 │               0 │                  0.0 │\n",
       "│       0 │      0 │              0 │ … │         0 │                    2 │               2 │                  1.0 │\n",
       "│       0 │      0 │              0 │ … │         0 │                    0 │               0 │                  0.0 │\n",
       "│       1 │      0 │              0 │ … │         0 │                    0 │               0 │                  0.0 │\n",
       "│       0 │      0 │              0 │ … │         0 │                    1 │               1 │                  1.0 │\n",
       "│       0 │      0 │              0 │ … │         0 │                    0 │               0 │                  0.0 │\n",
       "│       0 │      0 │              0 │ … │         0 │                    0 │               0 │                  0.0 │\n",
       "│       0 │      0 │              0 │ … │         0 │                    0 │               0 │                  0.0 │\n",
       "│       0 │      0 │              0 │ … │         0 │                    0 │               0 │                  0.0 │\n",
       "├─────────┴────────┴────────────────┴───┴───────────┴──────────────────────┴─────────────────┴──────────────────────┤\n",
       "│ 17 rows                                                                                      33 columns (7 shown) │\n",
       "└───────────────────────────────────────────────────────────────────────────────────────────────────────────────────┘"
      ]
     },
     "execution_count": 35,
     "metadata": {},
     "output_type": "execute_result"
    }
   ],
   "source": [
    "duckdb.sql(\"\"\"           \n",
    "           WITH home_players2 AS(\n",
    "               SELECT UNNEST(home_players) AS home_players\n",
    "               FROM read_json('Game Statistics/0022400066_2024-10-23.jsonl', auto_detect=True)\n",
    "           ),\n",
    "           \n",
    "           home_player_stats AS(\n",
    "               SELECT home_players.statistics AS player_stats\n",
    "               FROM home_players2\n",
    "           )\n",
    "           SELECT player_stats.*\n",
    "           FROM home_player_stats\"\"\")"
   ]
  },
  {
   "cell_type": "code",
   "execution_count": 88,
   "metadata": {},
   "outputs": [
    {
     "data": {
      "text/html": [
       "<div>\n",
       "<style scoped>\n",
       "    .dataframe tbody tr th:only-of-type {\n",
       "        vertical-align: middle;\n",
       "    }\n",
       "\n",
       "    .dataframe tbody tr th {\n",
       "        vertical-align: top;\n",
       "    }\n",
       "\n",
       "    .dataframe thead th {\n",
       "        text-align: right;\n",
       "    }\n",
       "</style>\n",
       "<table border=\"1\" class=\"dataframe\">\n",
       "  <thead>\n",
       "    <tr style=\"text-align: right;\">\n",
       "      <th></th>\n",
       "      <th>team_name</th>\n",
       "      <th>Offensive Rating</th>\n",
       "      <th>Defensive Rating</th>\n",
       "      <th>Net Rating</th>\n",
       "      <th>Points In The Paint</th>\n",
       "      <th>Second Chance Points</th>\n",
       "      <th>Points From Turnovers</th>\n",
       "      <th>Effective FG %</th>\n",
       "      <th>True Shooting %</th>\n",
       "      <th>Assist-Turnover Ratio</th>\n",
       "      <th>Team MVP</th>\n",
       "      <th>PIE</th>\n",
       "    </tr>\n",
       "  </thead>\n",
       "  <tbody>\n",
       "    <tr>\n",
       "      <th>0</th>\n",
       "      <td>76ers</td>\n",
       "      <td>105.95</td>\n",
       "      <td>124.45</td>\n",
       "      <td>-18.5</td>\n",
       "      <td>56</td>\n",
       "      <td>17</td>\n",
       "      <td>18</td>\n",
       "      <td>45.92</td>\n",
       "      <td>49.6</td>\n",
       "      <td>1.8</td>\n",
       "      <td>Kyle Lowry</td>\n",
       "      <td>0.244604</td>\n",
       "    </tr>\n",
       "  </tbody>\n",
       "</table>\n",
       "</div>"
      ],
      "text/plain": [
       "  team_name  Offensive Rating  Defensive Rating  Net Rating  \\\n",
       "0     76ers            105.95            124.45       -18.5   \n",
       "\n",
       "   Points In The Paint  Second Chance Points  Points From Turnovers  \\\n",
       "0                   56                    17                     18   \n",
       "\n",
       "   Effective FG %  True Shooting %  Assist-Turnover Ratio    Team MVP  \\\n",
       "0           45.92             49.6                    1.8  Kyle Lowry   \n",
       "\n",
       "        PIE  \n",
       "0  0.244604  "
      ]
     },
     "execution_count": 88,
     "metadata": {},
     "output_type": "execute_result"
    }
   ],
   "source": [
    "home_stats = duckdb.sql(\"\"\"\n",
    "           WITH home_players AS(\n",
    "               SELECT UNNEST(home_players) AS home_players\n",
    "               FROM read_json('Game Statistics/0022400066_2024-10-23.jsonl', auto_detect=True)\n",
    "           ),\n",
    "           \n",
    "           home_player_stats AS(\n",
    "               SELECT home_players.statistics AS player_stats,\n",
    "               home_players.name AS player_name\n",
    "               FROM home_players\n",
    "           )\n",
    "           \n",
    "           SELECT \n",
    "                home_team.team_name AS team_name,\n",
    "                ROUND((home_team.points/(home_team.fieldGoalsAttempted + (0.44 * home_team.freeThrowsAttempted) - home_team.reboundsOffensive + home_team.turnovers))*100, 2) AS 'Offensive Rating',\n",
    "                ROUND((away_team.points/(away_team.fieldGoalsAttempted + (0.44 * away_team.freeThrowsAttempted) - away_team.reboundsOffensive + away_team.turnovers))*100, 2) AS 'Defensive Rating',\n",
    "                ROUND((home_team.points/(home_team.fieldGoalsAttempted + (0.44 * home_team.freeThrowsAttempted) - home_team.reboundsOffensive + home_team.turnovers))*100, 2) - ROUND((away_team.points/(away_team.fieldGoalsAttempted + (0.44 * away_team.freeThrowsAttempted) - away_team.reboundsOffensive + away_team.turnovers))*100, 2) AS 'Net Rating',\n",
    "                home_team.pointsInThePaint AS 'Points In The Paint',\n",
    "                home_team.pointsSecondChance AS 'Second Chance Points',\n",
    "                home_team.pointsFromTurnovers AS 'Points From Turnovers',\n",
    "                ROUND(home_team.fieldGoalsEffectiveAdjusted, 4)*100 AS 'Effective FG %',\n",
    "                ROUND(home_team.trueShootingPercentage, 4)*100 AS 'True Shooting %',\n",
    "                home_team.assistsTurnoverRatio AS 'Assist-Turnover Ratio',\n",
    "                player_name AS 'Team MVP', \n",
    "                MAX((player_stats.points::FLOAT + player_stats.fieldGoalsMade::FLOAT + player_stats.freeThrowsMade::FLOAT - player_stats.fieldGoalsAttempted::FLOAT - player_stats.freeThrowsAttempted::FLOAT + player_stats.reboundsDefensive::FLOAT + (player_stats.reboundsOffensive::FLOAT/2::FLOAT) + player_stats.assists::FLOAT + player_stats.steals::FLOAT + (player_stats.blocks::FLOAT/2::FLOAT) - player_stats.foulsPersonal::FLOAT - player_stats.turnovers::FLOAT)::FLOAT / (home_team.points + home_team.fieldGoalsMade + home_team.freeThrowsMade - home_team.fieldGoalsAttempted - home_team.freeThrowsAttempted + home_team.reboundsDefensive + (home_team.reboundsOffensive::FLOAT/2::FLOAT) + home_team.assists + home_team.steals + (home_team.blocks::FLOAT/2::FLOAT) - home_team.foulsPersonal - home_team.turnovers)::FLOAT) AS 'PIE'\n",
    "            FROM read_json('Game Statistics/0022400066_2024-10-23.jsonl', auto_detect=True)\n",
    "            CROSS JOIN home_player_stats\n",
    "            GROUP BY home_team, away_team, player_name\n",
    "            ORDER BY PIE DESC\n",
    "            LIMIT 1\"\"\").to_df()\n",
    "home_stats"
   ]
  },
  {
   "cell_type": "code",
   "execution_count": 90,
   "metadata": {},
   "outputs": [
    {
     "data": {
      "text/plain": [
       "┌──────────┐\n",
       "│ 'Action' │\n",
       "│ varchar  │\n",
       "├──────────┤\n",
       "│ Action   │\n",
       "└──────────┘"
      ]
     },
     "execution_count": 90,
     "metadata": {},
     "output_type": "execute_result"
    }
   ],
   "source": [
    "duckdb.sql(\"SELECT 'Action'\")"
   ]
  }
 ],
 "metadata": {
  "kernelspec": {
   "display_name": "Python 3",
   "language": "python",
   "name": "python3"
  },
  "language_info": {
   "codemirror_mode": {
    "name": "ipython",
    "version": 3
   },
   "file_extension": ".py",
   "mimetype": "text/x-python",
   "name": "python",
   "nbconvert_exporter": "python",
   "pygments_lexer": "ipython3",
   "version": "3.10.11"
  }
 },
 "nbformat": 4,
 "nbformat_minor": 2
}
