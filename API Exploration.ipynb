{
 "cells": [
  {
   "cell_type": "markdown",
   "metadata": {},
   "source": [
    "## Import Required Libraries"
   ]
  },
  {
   "cell_type": "code",
   "execution_count": null,
   "metadata": {},
   "outputs": [],
   "source": [
    "%pip install --q -r requirements.txt"
   ]
  },
  {
   "cell_type": "code",
   "execution_count": null,
   "metadata": {},
   "outputs": [],
   "source": [
    "from nba_api.stats.endpoints import teamdetails, commonteamyears, teamgamelogs,playergamelogs, commonplayerinfo, boxscoreadvancedv3, boxscoretraditionalv3, boxscoremiscv3, scoreboardv2\n",
    "import pandas as pd\n",
    "from tqdm import tqdm\n",
    "import os\n",
    "import pandavro as pdx\n",
    "import numpy as np\n",
    "import time\n",
    "from datetime import datetime, date\n",
    "from warnings import filterwarnings\n",
    "import json\n",
    "import multiprocessing as mp\n",
    "filterwarnings('ignore')"
   ]
  },
  {
   "cell_type": "markdown",
   "metadata": {},
   "source": [
    "## Get All Team IDs"
   ]
  },
  {
   "cell_type": "code",
   "execution_count": null,
   "metadata": {},
   "outputs": [],
   "source": [
    "if 'all_teams.parquet' not in os.listdir('Static Files'):\n",
    "    teams = commonteamyears.CommonTeamYears()\n",
    "    print('Established connection')\n",
    "    teams = teams.get_dict()\n",
    "    print('Retrieved list of dicts')\n",
    "    team_ids = []\n",
    "    for team in tqdm(teams['resultSets'][0]['rowSet']):\n",
    "        team_id = team[1]\n",
    "        team_name = team[2]\n",
    "        start_year = team[3]\n",
    "        end_year = team[4]\n",
    "        team_ids.append((team_id, team_name, start_year, end_year))\n",
    "        time.sleep(0.5)\n",
    "    print('Established list of tuples')\n",
    "    teams = pd.DataFrame(team_ids, columns=['team_id', 'year_founded', 'year_depreciated', 'abbreviation'])\n",
    "    print('Created DataFrame')\n",
    "    teams.to_parquet('Static Files/all_teams.parquet', index=False)"
   ]
  },
  {
   "cell_type": "markdown",
   "metadata": {},
   "source": [
    "## Get All Team Details"
   ]
  },
  {
   "cell_type": "code",
   "execution_count": null,
   "metadata": {},
   "outputs": [],
   "source": [
    "if 'team_details.parquet' not in os.listdir('Static Files'):\n",
    "    teams = pd.read_parquet('Static Files/all_teams.parquet')\n",
    "    initial_df = []\n",
    "    for team in tqdm(teams['team_id']):\n",
    "        get_coaches = teamdetails.TeamDetails(team_id=team, timeout=60)\n",
    "        next_df = get_coaches.get_data_frames()[0]\n",
    "        initial_df.append(next_df)\n",
    "        time.sleep(0.5)\n",
    "    output_df = pd.concat(initial_df)\n",
    "    output_df.to_parquet('Static Files/team_details.parquet')"
   ]
  },
  {
   "cell_type": "markdown",
   "metadata": {},
   "source": [
    "## Get All Team Game Logs"
   ]
  },
  {
   "cell_type": "code",
   "execution_count": null,
   "metadata": {},
   "outputs": [],
   "source": [
    "if 'team_game_logs.parquet' not in os.listdir('Static Files'):\n",
    "    start = 0\n",
    "    end = 1\n",
    "    initial_df = []\n",
    "    for integer in tqdm(range(1,25)):\n",
    "        if end < 10:\n",
    "            get_game_stats = teamgamelogs.TeamGameLogs(season_nullable=f'200{start}-0{end}')\n",
    "            next_df = get_game_stats.get_data_frames()[0]\n",
    "            initial_df.append(next_df)\n",
    "            time.sleep(0.5)\n",
    "            start += 1\n",
    "            end += 1\n",
    "        else:\n",
    "            start += 1\n",
    "            end += 1\n",
    "            get_game_stats = teamgamelogs.TeamGameLogs(season_nullable=f'20{start}-{end}')\n",
    "            next_df = get_game_stats.get_data_frames()[0]\n",
    "            initial_df.append(next_df)\n",
    "            time.sleep(0.5)\n",
    "\n",
    "    output_df = pd.concat(initial_df)\n",
    "    output_df.to_parquet('Static Files/team_game_logs.parquet')"
   ]
  },
  {
   "cell_type": "markdown",
   "metadata": {},
   "source": [
    "## Get All Current Player Injury Reports"
   ]
  },
  {
   "cell_type": "code",
   "execution_count": null,
   "metadata": {},
   "outputs": [],
   "source": [
    "if 'player_injury_reports.avro' not in os.listdir('Static Files'):\n",
    "    player_injuries = pd.concat(pd.read_html('https://www.espn.com/nba/injuries')).fillna('No Info Available')\n",
    "    player_injuries['date_updated'] = datetime.today()\n",
    "    pdx.to_avro('Static Files/player_injury_reports.avro', player_injuries)\n",
    "elif ('player_injury_reports.avro' in os.listdir('Static Files')):\n",
    "    player_injuries = pdx.read_avro('Static Files/player_injury_reports.avro')\n",
    "    if player_injuries['date_updated'].all() != datetime.today():\n",
    "        player_injuries = pd.concat(pd.read_html('https://www.espn.com/nba/injuries')).fillna('No Info Available')\n",
    "        player_injuries['date_updated'] = datetime.today()\n",
    "        pdx.to_avro('Static Files/player_injury_reports.avro', player_injuries)"
   ]
  },
  {
   "cell_type": "markdown",
   "metadata": {},
   "source": [
    "## Get All Player Game Logs"
   ]
  },
  {
   "cell_type": "code",
   "execution_count": null,
   "metadata": {},
   "outputs": [],
   "source": [
    "if 'player_game_logs.parquet' not in os.listdir('Static Files'):\n",
    "    start = 0\n",
    "    end = 1\n",
    "    initial_df = []\n",
    "    for integer in tqdm(range(1,25)):\n",
    "        if end < 10:\n",
    "            get_game_stats = playergamelogs.PlayerGameLogs(season_nullable=f'200{start}-0{end}')\n",
    "            next_df = get_game_stats.get_data_frames()[0]\n",
    "            initial_df.append(next_df)\n",
    "            time.sleep(0.5)\n",
    "            start += 1\n",
    "            end += 1\n",
    "        else:\n",
    "            start += 1\n",
    "            end += 1\n",
    "            get_game_stats = playergamelogs.PlayerGameLogs(season_nullable=f'20{start}-{end}')\n",
    "            next_df = get_game_stats.get_data_frames()[0]\n",
    "            initial_df.append(next_df)\n",
    "            time.sleep(0.5)\n",
    "\n",
    "    output_df = pd.concat(initial_df)\n",
    "    output_df.to_parquet('Static Files/player_game_logs.parquet')"
   ]
  },
  {
   "cell_type": "markdown",
   "metadata": {},
   "source": [
    "## Get All Games Next Season"
   ]
  },
  {
   "cell_type": "code",
   "execution_count": null,
   "metadata": {},
   "outputs": [],
   "source": [
    "if '2024-25_game_ids.parquet' not in os.listdir('Static Files'):\n",
    "    start = datetime.strptime(\"2024-10-04\", \"%Y-%m-%d\")\n",
    "    end = datetime.strptime(\"2025-04-15\", \"%Y-%m-%d\")\n",
    "\n",
    "    date_range = pd.date_range(start=start, end=end).to_list()\n",
    "\n",
    "    games = {}\n",
    "    # Assuming 'range' contains the list of dates for the 2024-25 season\n",
    "    for date in tqdm(date_range):\n",
    "        json_string = json.loads(scoreboardv2.ScoreboardV2(game_date=date).get_json())\n",
    "\n",
    "        i = 0  # resultSets index for 'GameHeader'\n",
    "        headers = json_string['resultSets'][i].get('headers', '')\n",
    "\n",
    "        # Iterate through each game in the 'rowSet'\n",
    "        for game in json_string['resultSets'][i]['rowSet']:\n",
    "            game_id = game[2]  # Index 2 is the 'GAME_ID'\n",
    "\n",
    "            # Add game_id to the list of games for the specific date\n",
    "            if date in games:\n",
    "                games[date].append(game_id)\n",
    "            else:\n",
    "                games[date] = [game_id]\n",
    "\n",
    "        time.sleep(0.5)  # Delay to avoid rate limits\n",
    "    games = {key.strftime('%Y-%m-%d'): value for key, value in games.items()}\n",
    "    games_2025 = pd.DataFrame(list(games.items()), columns=['game_date', 'game_id'])\n",
    "    games_2025 = games_2025.explode(column='game_id')\n",
    "    games_2025.to_parquet('Static Files/2024-25_game_ids.parquet')"
   ]
  },
  {
   "cell_type": "markdown",
   "metadata": {},
   "source": [
    "## Get Advanced Player Game Stats"
   ]
  },
  {
   "cell_type": "code",
   "execution_count": null,
   "metadata": {},
   "outputs": [],
   "source": [
    "if 'current_player_advanced_game_stats.parquet' not in os.listdir('Static Files'):\n",
    "    # Filter games for the 2023-24 season\n",
    "    games = game_log_df[game_log_df['SEASON_YEAR'] == '2023-24']['GAME_ID'].unique()\n",
    "    rows = []\n",
    "\n",
    "    # Iterate over each game\n",
    "    for game_id in tqdm(games):\n",
    "        try:\n",
    "            # Fetch box score data for the current game\n",
    "            game = boxscoreadvancedv3.BoxScoreAdvancedV3(game_id).get_data_frames()[0]\n",
    "\n",
    "            # Extract relevant fields and append rows\n",
    "            rows.extend([{\n",
    "                'game_id': game_id,\n",
    "                'team_id': player_stats.teamId,\n",
    "                'team_name': f\"{player_stats.teamCity} {player_stats.teamName}\",\n",
    "                'player_id': player_stats.personId,\n",
    "                'player_name': f\"{player_stats.firstName} {player_stats.familyName}\",\n",
    "                'position': player_stats.position,\n",
    "                'comment': player_stats.comment,\n",
    "                'offensive_rating': player_stats.offensiveRating,\n",
    "                'defensive_rating': player_stats.defensiveRating,\n",
    "                'net_rating': player_stats.netRating,\n",
    "                'assist_percentage': player_stats.assistPercentage,\n",
    "                'assist_turnover_ratio': player_stats.assistToTurnover,\n",
    "                'assist_ratio': player_stats.assistRatio,\n",
    "                'usage_percentage': player_stats.usagePercentage,\n",
    "                'possessions': player_stats.possessions,\n",
    "                'effective_fg_percentage': player_stats.effectiveFieldGoalPercentage,\n",
    "                'true_shooting_percentage': player_stats.trueShootingPercentage,\n",
    "                'player_impact_score': player_stats.PIE\n",
    "            } for player_stats in game.itertuples()])\n",
    "\n",
    "            # Sleep to avoid hitting the rate limit\n",
    "            time.sleep(0.5)\n",
    "        except Exception as e:\n",
    "            print(f\"Error processing game {game_id}: {e}\")\n",
    "            continue\n",
    "\n",
    "    # Convert list of rows to DataFrame\n",
    "    df = pd.DataFrame(rows)\n",
    "\n",
    "    # Save to Parquet\n",
    "    df.to_parquet('Static Files/current_player_advanced_game_stats.parquet')\n"
   ]
  },
  {
   "cell_type": "markdown",
   "metadata": {},
   "source": [
    "## Get Advanced Team Game Stats"
   ]
  },
  {
   "cell_type": "code",
   "execution_count": null,
   "metadata": {},
   "outputs": [],
   "source": [
    "def fetch_team_advanced_stats():\n",
    "\n",
    "    if 'current_team_advanced_game_stats.parquet' not in os.listdir('Static Files'):\n",
    "        # Filter games for the 2023-24 season\n",
    "        games = game_log_df2[game_log_df2['SEASON_YEAR'] == '2023-24']['GAME_ID'].unique()\n",
    "        rows = []\n",
    "\n",
    "        # Iterate over each game\n",
    "        for game_id in tqdm(games):\n",
    "            try:\n",
    "                # Fetch box score data for the current game\n",
    "                game = boxscoreadvancedv3.BoxScoreAdvancedV3(game_id).get_data_frames()[1]\n",
    "\n",
    "                # Extract relevant fields and append rows\n",
    "                rows.extend([{\n",
    "                    'game_id': game_id,\n",
    "                    'team_id': team_stats.teamId,\n",
    "                    'team_name': f\"{team_stats.teamCity} {team_stats.teamName}\",\n",
    "                    'offensive_rating': team_stats.offensiveRating,\n",
    "                    'defensive_rating': team_stats.defensiveRating,\n",
    "                    'net_rating': team_stats.netRating,\n",
    "                    'assist_percentage': team_stats.assistPercentage,\n",
    "                    'assist_turnover_ratio': team_stats.assistToTurnover,\n",
    "                    'assist_ratio': team_stats.assistRatio,\n",
    "                    'possessions': team_stats.possessions,\n",
    "                    'effective_fg_percentage': team_stats.effectiveFieldGoalPercentage,\n",
    "                    'true_shooting_percentage': team_stats.trueShootingPercentage\n",
    "                } for team_stats in game.itertuples()])\n",
    "\n",
    "                # Sleep to avoid hitting the rate limit\n",
    "                time.sleep(1)\n",
    "            except:\n",
    "                print(f\"last processed game: {game_id}\")\n",
    "                df = pd.DataFrame(rows)\n",
    "                df.to_parquet('Static Files/current_team_advanced_game_stats.parquet')\n",
    "\n",
    "        # Convert list of rows to DataFrame\n",
    "        df = pd.DataFrame(rows)\n",
    "\n",
    "        # Save to Parquet\n",
    "        df.to_parquet('Static Files/current_team_advanced_game_stats.parquet')\n",
    "\n",
    "# Run the function\n",
    "fetch_team_advanced_stats()\n"
   ]
  },
  {
   "cell_type": "markdown",
   "metadata": {},
   "source": [
    "## Get Player Stats"
   ]
  },
  {
   "cell_type": "code",
   "execution_count": 34,
   "metadata": {},
   "outputs": [
    {
     "name": "stdout",
     "output_type": "stream",
     "text": [
      "<class 'pandas.core.frame.DataFrame'>\n",
      "RangeIndex: 20 entries, 0 to 19\n",
      "Data columns (total 35 columns):\n",
      " #   Column                   Non-Null Count  Dtype  \n",
      "---  ------                   --------------  -----  \n",
      " 0   team_name                20 non-null     object \n",
      " 1   player_name              20 non-null     object \n",
      " 2   assists                  20 non-null     int64  \n",
      " 3   blocks                   20 non-null     int64  \n",
      " 4   blocksReceived           20 non-null     int64  \n",
      " 5   fieldGoalsAttempted      20 non-null     int64  \n",
      " 6   fieldGoalsMade           20 non-null     int64  \n",
      " 7   fieldGoalsPercentage     20 non-null     float64\n",
      " 8   foulsOffensive           20 non-null     int64  \n",
      " 9   foulsDrawn               20 non-null     int64  \n",
      " 10  foulsPersonal            20 non-null     int64  \n",
      " 11  foulsTechnical           20 non-null     int64  \n",
      " 12  freeThrowsAttempted      20 non-null     int64  \n",
      " 13  freeThrowsMade           20 non-null     int64  \n",
      " 14  freeThrowsPercentage     20 non-null     float64\n",
      " 15  minus                    20 non-null     float64\n",
      " 16  minutes                  20 non-null     object \n",
      " 17  minutesCalculated        20 non-null     object \n",
      " 18  plus                     20 non-null     float64\n",
      " 19  plusMinusPoints          20 non-null     float64\n",
      " 20  points                   20 non-null     int64  \n",
      " 21  pointsFastBreak          20 non-null     int64  \n",
      " 22  pointsInThePaint         20 non-null     int64  \n",
      " 23  pointsSecondChance       20 non-null     int64  \n",
      " 24  reboundsDefensive        20 non-null     int64  \n",
      " 25  reboundsOffensive        20 non-null     int64  \n",
      " 26  reboundsTotal            20 non-null     int64  \n",
      " 27  steals                   20 non-null     int64  \n",
      " 28  threePointersAttempted   20 non-null     int64  \n",
      " 29  threePointersMade        20 non-null     int64  \n",
      " 30  threePointersPercentage  20 non-null     float64\n",
      " 31  turnovers                20 non-null     int64  \n",
      " 32  twoPointersAttempted     20 non-null     int64  \n",
      " 33  twoPointersMade          20 non-null     int64  \n",
      " 34  twoPointersPercentage    20 non-null     float64\n",
      "dtypes: float64(7), int64(24), object(4)\n",
      "memory usage: 5.6+ KB\n"
     ]
    }
   ],
   "source": [
    "from nba_api.live.nba.endpoints import boxscore\n",
    "import json\n",
    "import pandas as pd\n",
    "\n",
    "# get home player stats\n",
    "home_players = json.loads(boxscore.BoxScore(game_id='0012400027').get_json())['game']['homeTeam']['players']\n",
    "home_team = json.loads(boxscore.BoxScore(game_id='0012400027').get_json())['game']['homeTeam']['teamTricode']\n",
    "home_player_stats = []\n",
    "for player in home_players:\n",
    "    stats = player['statistics']\n",
    "    stats['player_name'] = f\"{player['firstName']} {player['familyName']}\"\n",
    "    stats['team_name'] = home_team  # Include team name\n",
    "\n",
    "    home_player_stats.append(stats)\n",
    "home_player_stats = pd.DataFrame(home_player_stats)\n",
    "home_player_stats = home_player_stats[['team_name', 'player_name'] + [col for col in home_player_stats.columns if col not in ['team_name', 'player_name']]]\n",
    "\n",
    "# get away player stats\n",
    "away_players = json.loads(boxscore.BoxScore(game_id='0012400027').get_json())['game']['awayTeam']['players']\n",
    "away_team = json.loads(boxscore.BoxScore(game_id='0012400027').get_json())['game']['awayTeam']['teamTricode']\n",
    "away_player_stats = []\n",
    "for player in away_players:\n",
    "    stats = player['statistics']\n",
    "    stats['player_name'] = f\"{player['firstName']} {player['familyName']}\"\n",
    "    stats['team_name'] = away_team  # Include team name\n",
    "\n",
    "    away_player_stats.append(stats)\n",
    "away_player_stats = pd.DataFrame(away_player_stats)\n",
    "away_player_stats = away_player_stats[['team_name', 'player_name'] + [col for col in away_player_stats.columns if col not in ['team_name', 'player_name']]]\n",
    "# ['team_name', 'player_name', 'minutes', 'points', 'rebounds', 'assists', 'steals', 'blocks']\n",
    "home_player_stats.info()\n"
   ]
  }
 ],
 "metadata": {
  "kernelspec": {
   "display_name": "Python 3",
   "language": "python",
   "name": "python3"
  },
  "language_info": {
   "codemirror_mode": {
    "name": "ipython",
    "version": 3
   },
   "file_extension": ".py",
   "mimetype": "text/x-python",
   "name": "python",
   "nbconvert_exporter": "python",
   "pygments_lexer": "ipython3",
   "version": "3.12.4"
  }
 },
 "nbformat": 4,
 "nbformat_minor": 2
}
